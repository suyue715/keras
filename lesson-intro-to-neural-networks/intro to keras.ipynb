{
 "cells": [
  {
   "cell_type": "code",
   "execution_count": 1,
   "metadata": {},
   "outputs": [],
   "source": [
    "from sklearn.datasets import load_boston"
   ]
  },
  {
   "cell_type": "code",
   "execution_count": 2,
   "metadata": {},
   "outputs": [],
   "source": [
    "data=load_boston()"
   ]
  },
  {
   "cell_type": "code",
   "execution_count": 42,
   "metadata": {},
   "outputs": [],
   "source": [
    "from sklearn.model_selection import train_test_split,GridSearchCV\n",
    "from keras.wrappers.scikit_learn import KerasClassifier"
   ]
  },
  {
   "cell_type": "code",
   "execution_count": 6,
   "metadata": {},
   "outputs": [
    {
     "data": {
      "text/plain": [
       "array(['CRIM', 'ZN', 'INDUS', 'CHAS', 'NOX', 'RM', 'AGE', 'DIS', 'RAD',\n",
       "       'TAX', 'PTRATIO', 'B', 'LSTAT'], \n",
       "      dtype='<U7')"
      ]
     },
     "execution_count": 6,
     "metadata": {},
     "output_type": "execute_result"
    }
   ],
   "source": [
    "data.feature_names"
   ]
  },
  {
   "cell_type": "code",
   "execution_count": 7,
   "metadata": {},
   "outputs": [],
   "source": [
    "X_train, X_test, y_trian, y_test=train_test_split(data.data,data.target)"
   ]
  },
  {
   "cell_type": "code",
   "execution_count": 14,
   "metadata": {},
   "outputs": [
    {
     "name": "stdout",
     "output_type": "stream",
     "text": [
      "(379, 13) (379,) (127, 13) (127,)\n"
     ]
    }
   ],
   "source": [
    "print(X_train.shape,y_trian.shape,X_test.shape,y_test.shape)"
   ]
  },
  {
   "cell_type": "code",
   "execution_count": 3,
   "metadata": {},
   "outputs": [],
   "source": [
    "from sklearn.preprocessing import StandardScaler"
   ]
  },
  {
   "cell_type": "code",
   "execution_count": 19,
   "metadata": {},
   "outputs": [],
   "source": [
    "ss=StandardScaler()\n",
    "X_train=ss.fit_transform(X_train)\n",
    "X_test=ss.fit_transform(X_test)"
   ]
  },
  {
   "cell_type": "code",
   "execution_count": 92,
   "metadata": {},
   "outputs": [],
   "source": [
    "from keras.models import Sequential\n",
    "from keras.layers import Dense,Conv2D,MaxPool2D,Flatten\n",
    "from keras.layers import Dropout"
   ]
  },
  {
   "cell_type": "code",
   "execution_count": 22,
   "metadata": {},
   "outputs": [],
   "source": [
    "data=load_boston()"
   ]
  },
  {
   "cell_type": "code",
   "execution_count": 23,
   "metadata": {},
   "outputs": [],
   "source": [
    "model=Sequential()"
   ]
  },
  {
   "cell_type": "code",
   "execution_count": 24,
   "metadata": {},
   "outputs": [],
   "source": [
    "model.add(Dense(13,input_dim=13,activation='relu'))"
   ]
  },
  {
   "cell_type": "code",
   "execution_count": 25,
   "metadata": {},
   "outputs": [],
   "source": [
    "model.add(Dense(1))"
   ]
  },
  {
   "cell_type": "code",
   "execution_count": 26,
   "metadata": {},
   "outputs": [],
   "source": [
    "from keras import losses"
   ]
  },
  {
   "cell_type": "code",
   "execution_count": 27,
   "metadata": {},
   "outputs": [],
   "source": [
    "model.compile(loss='mean_squared_error',optimizer='adam')"
   ]
  },
  {
   "cell_type": "code",
   "execution_count": 29,
   "metadata": {},
   "outputs": [
    {
     "name": "stdout",
     "output_type": "stream",
     "text": [
      "Train on 379 samples, validate on 127 samples\n",
      "Epoch 1/10\n",
      "379/379 [==============================] - 0s 106us/step - loss: 549.5873 - val_loss: 475.3332\n",
      "Epoch 2/10\n",
      "379/379 [==============================] - 0s 109us/step - loss: 540.7599 - val_loss: 467.3672\n",
      "Epoch 3/10\n",
      "379/379 [==============================] - 0s 101us/step - loss: 531.5691 - val_loss: 458.9301\n",
      "Epoch 4/10\n",
      "379/379 [==============================] - 0s 107us/step - loss: 521.8075 - val_loss: 450.0150\n",
      "Epoch 5/10\n",
      "379/379 [==============================] - 0s 104us/step - loss: 511.7850 - val_loss: 440.4776\n",
      "Epoch 6/10\n",
      "379/379 [==============================] - 0s 98us/step - loss: 500.7625 - val_loss: 430.5582\n",
      "Epoch 7/10\n",
      "379/379 [==============================] - 0s 101us/step - loss: 489.5882 - val_loss: 420.1063\n",
      "Epoch 8/10\n",
      "379/379 [==============================] - 0s 108us/step - loss: 477.6169 - val_loss: 409.3302\n",
      "Epoch 9/10\n",
      "379/379 [==============================] - 0s 100us/step - loss: 465.4893 - val_loss: 398.1398\n",
      "Epoch 10/10\n",
      "379/379 [==============================] - 0s 107us/step - loss: 452.8953 - val_loss: 386.6477\n"
     ]
    },
    {
     "data": {
      "text/plain": [
       "<keras.callbacks.History at 0x117785128>"
      ]
     },
     "execution_count": 29,
     "metadata": {},
     "output_type": "execute_result"
    }
   ],
   "source": [
    "model.fit(X_train,y_trian,validation_data=(X_test,y_test),epochs=10)"
   ]
  },
  {
   "cell_type": "markdown",
   "metadata": {},
   "source": [
    "# Binary Classification"
   ]
  },
  {
   "cell_type": "code",
   "execution_count": 49,
   "metadata": {},
   "outputs": [],
   "source": [
    "from sklearn.datasets import load_breast_cancer\n",
    "data=load_breast_cancer()"
   ]
  },
  {
   "cell_type": "code",
   "execution_count": 50,
   "metadata": {},
   "outputs": [],
   "source": [
    "target=data.target*-1+1"
   ]
  },
  {
   "cell_type": "code",
   "execution_count": 51,
   "metadata": {},
   "outputs": [],
   "source": [
    "X_train, X_test, y_train, y_test=train_test_split(data.data,target)"
   ]
  },
  {
   "cell_type": "code",
   "execution_count": 52,
   "metadata": {},
   "outputs": [
    {
     "name": "stdout",
     "output_type": "stream",
     "text": [
      "(426, 30) (426,) (143, 30) (143,)\n"
     ]
    }
   ],
   "source": [
    "print(X_train.shape,y_train.shape,X_test.shape,y_test.shape)"
   ]
  },
  {
   "cell_type": "code",
   "execution_count": 54,
   "metadata": {},
   "outputs": [],
   "source": [
    "from sklearn.pipeline import Pipeline"
   ]
  },
  {
   "cell_type": "code",
   "execution_count": 55,
   "metadata": {},
   "outputs": [
    {
     "name": "stdout",
     "output_type": "stream",
     "text": [
      "0.950704227591\n",
      "{'ff_model__layer_one_neurons': 30, 'ff_model__batch_size': 50, 'ff_model__layer_two_neurons': 30, 'ff_model__epochs': 5}\n"
     ]
    }
   ],
   "source": [
    "def model_funk(input_dim=30, layer_one_neurons=30, layer_two_neurons=20):\n",
    "    model = Sequential()\n",
    "    model.add(Dense(layer_one_neurons, input_dim=input_dim, activation='relu'))\n",
    "    model.add(Dense(layer_two_neurons, activation='relu'))\n",
    "    model.add(Dense(1, activation='sigmoid'))\n",
    "    \n",
    "    model.compile(loss='binary_crossentropy', optimizer='adam', metrics=['accuracy'])\n",
    "    \n",
    "    return model\n",
    "\n",
    "\n",
    "\n",
    "\n",
    "ff_model = KerasClassifier(build_fn=model_funk, verbose=0, input_dim=X_train.shape[1])\n",
    "\n",
    "\n",
    "pipe = Pipeline([\n",
    "    ('ss', StandardScaler()),\n",
    "    ('ff_model', ff_model)\n",
    "])\n",
    "\n",
    "\n",
    "params = {\n",
    "    'ff_model__epochs': [5],\n",
    "    'ff_model__batch_size': [50],\n",
    "    'ff_model__layer_one_neurons': [20, 30],\n",
    "    'ff_model__layer_two_neurons': [30, 50]\n",
    "}\n",
    "\n",
    "gs = GridSearchCV(pipe, param_grid=params)\n",
    "gs.fit(X_train, y_train)\n",
    "print(gs.best_score_)\n",
    "print(gs.best_params_)"
   ]
  },
  {
   "cell_type": "code",
   "execution_count": null,
   "metadata": {},
   "outputs": [],
   "source": []
  },
  {
   "cell_type": "code",
   "execution_count": 31,
   "metadata": {},
   "outputs": [],
   "source": [
    "from sklearn.preprocessing import StandardScaler"
   ]
  },
  {
   "cell_type": "code",
   "execution_count": 33,
   "metadata": {},
   "outputs": [],
   "source": [
    "ss=StandardScaler()\n",
    "X_train=ss.fit_transform(X_train)\n",
    "X_test=ss.fit_transform(X_test)"
   ]
  },
  {
   "cell_type": "code",
   "execution_count": 46,
   "metadata": {},
   "outputs": [],
   "source": [
    "def model_funk(input_dim=X_train.shape[1], layer_one_neurons=30):\n",
    "    model=Sequential()\n",
    "    model.add(Dense(30, input_dim=input_dim, activation='relu'))\n",
    "    model.add(Dense(1, activation='sigmoid'))\n",
    "    model.compile(loss='binary_crossentropy', optimizer='adam', metrics=['accuracy'])\n",
    "    \n",
    "    return model"
   ]
  },
  {
   "cell_type": "code",
   "execution_count": 47,
   "metadata": {},
   "outputs": [
    {
     "name": "stdout",
     "output_type": "stream",
     "text": [
      "0.950704224792\n",
      "{'layer_one_neurons': 20, 'batch_size': 50, 'epochs': 10}\n"
     ]
    }
   ],
   "source": [
    "ff_model = KerasClassifier(build_fn=model_funk, verbose=0, input_dim=X_train.shape[1])\n",
    "\n",
    "params = {\n",
    "    'epochs': [10],\n",
    "    'batch_size':[50],\n",
    "    'layer_one_neurons': [10, 20, 30]\n",
    "    \n",
    "}\n",
    "\n",
    "gs = GridSearchCV(ff_model, param_grid=params)\n",
    "gs.fit(X_train, y_train)\n",
    "print(gs.best_score_)\n",
    "print(gs.best_params_)"
   ]
  },
  {
   "cell_type": "code",
   "execution_count": null,
   "metadata": {},
   "outputs": [],
   "source": []
  },
  {
   "cell_type": "code",
   "execution_count": 48,
   "metadata": {},
   "outputs": [
    {
     "name": "stdout",
     "output_type": "stream",
     "text": [
      "0.950704216957\n",
      "{'layer_one_neurons': 30, 'batch_size': 50, 'layer_two_neurons': 30, 'epochs': 10}\n"
     ]
    }
   ],
   "source": [
    "def model_funk(input_dim=30, layer_one_neurons=30, layer_two_neurons=20):\n",
    "    model = Sequential()\n",
    "    model.add(Dense(layer_one_neurons, input_dim=input_dim, activation='relu'))\n",
    "    model.add(Dense(layer_two_neurons, activation='relu'))\n",
    "    model.add(Dense(1, activation='sigmoid'))\n",
    "    \n",
    "    model.compile(loss='binary_crossentropy', optimizer='adam', metrics=['accuracy'])\n",
    "    \n",
    "    return model\n",
    "\n",
    "\n",
    "\n",
    "\n",
    "ff_model = KerasClassifier(build_fn=model_funk, verbose=0, input_dim=X_train.shape[1])\n",
    "\n",
    "params = {\n",
    "    'epochs': [10],\n",
    "    'batch_size': [50],\n",
    "    'layer_one_neurons': [10, 20, 30],\n",
    "    'layer_two_neurons': [30, 50]\n",
    "}\n",
    "\n",
    "gs = GridSearchCV(ff_model, param_grid=params)\n",
    "gs.fit(X_train, y_train)\n",
    "print(gs.best_score_)\n",
    "print(gs.best_params_)\n"
   ]
  },
  {
   "cell_type": "code",
   "execution_count": null,
   "metadata": {},
   "outputs": [],
   "source": []
  },
  {
   "cell_type": "code",
   "execution_count": null,
   "metadata": {},
   "outputs": [],
   "source": []
  },
  {
   "cell_type": "code",
   "execution_count": null,
   "metadata": {},
   "outputs": [],
   "source": []
  },
  {
   "cell_type": "code",
   "execution_count": 50,
   "metadata": {},
   "outputs": [
    {
     "name": "stdout",
     "output_type": "stream",
     "text": [
      "Train on 426 samples, validate on 143 samples\n",
      "Epoch 1/15\n",
      "426/426 [==============================] - 0s 575us/step - loss: 0.6107 - val_loss: 0.4979\n",
      "Epoch 2/15\n",
      "426/426 [==============================] - 0s 120us/step - loss: 0.4308 - val_loss: 0.3635\n",
      "Epoch 3/15\n",
      "426/426 [==============================] - 0s 130us/step - loss: 0.3256 - val_loss: 0.2841\n",
      "Epoch 4/15\n",
      "426/426 [==============================] - 0s 138us/step - loss: 0.2607 - val_loss: 0.2352\n",
      "Epoch 5/15\n",
      "426/426 [==============================] - 0s 127us/step - loss: 0.2199 - val_loss: 0.2016\n",
      "Epoch 6/15\n",
      "426/426 [==============================] - 0s 142us/step - loss: 0.1909 - val_loss: 0.1795\n",
      "Epoch 7/15\n",
      "426/426 [==============================] - 0s 137us/step - loss: 0.1708 - val_loss: 0.1631\n",
      "Epoch 8/15\n",
      "426/426 [==============================] - 0s 132us/step - loss: 0.1549 - val_loss: 0.1501\n",
      "Epoch 9/15\n",
      "426/426 [==============================] - 0s 124us/step - loss: 0.1422 - val_loss: 0.1400\n",
      "Epoch 10/15\n",
      "426/426 [==============================] - 0s 148us/step - loss: 0.1319 - val_loss: 0.1318\n",
      "Epoch 11/15\n",
      "426/426 [==============================] - 0s 154us/step - loss: 0.1232 - val_loss: 0.1252\n",
      "Epoch 12/15\n",
      "426/426 [==============================] - 0s 138us/step - loss: 0.1159 - val_loss: 0.1194\n",
      "Epoch 13/15\n",
      "426/426 [==============================] - 0s 122us/step - loss: 0.1093 - val_loss: 0.1143\n",
      "Epoch 14/15\n",
      "426/426 [==============================] - 0s 128us/step - loss: 0.1038 - val_loss: 0.1100\n",
      "Epoch 15/15\n",
      "426/426 [==============================] - 0s 134us/step - loss: 0.0991 - val_loss: 0.1063\n"
     ]
    },
    {
     "data": {
      "text/plain": [
       "<keras.callbacks.History at 0x118551e80>"
      ]
     },
     "execution_count": 50,
     "metadata": {},
     "output_type": "execute_result"
    }
   ],
   "source": [
    "model = Sequential()\n",
    "\n",
    "model.add(Dense(X_train.shape[1], input_dim=X_train.shape[1], activation='relu'))\n",
    "model.add(Dense(1,activation='sigmoid'))\n",
    "\n",
    "model.compile(loss='binary_crossentropy', optimizer='adam')\n",
    "\n",
    "model.fit(X_train, y_train, validation_data=(X_test, y_test), epochs=15，matri)"
   ]
  },
  {
   "cell_type": "code",
   "execution_count": 60,
   "metadata": {},
   "outputs": [],
   "source": [
    "from sklearn.datasets import load_iris\n",
    "data=load_iris()"
   ]
  },
  {
   "cell_type": "code",
   "execution_count": 61,
   "metadata": {},
   "outputs": [],
   "source": [
    "X_train, X_test, y_trian, y_test=train_test_split(data.data,data.target)"
   ]
  },
  {
   "cell_type": "code",
   "execution_count": 62,
   "metadata": {},
   "outputs": [],
   "source": [
    "X_train=ss.fit_transform(X_train)\n",
    "X_test=ss.fit_transform(X_test)"
   ]
  },
  {
   "cell_type": "code",
   "execution_count": null,
   "metadata": {},
   "outputs": [],
   "source": []
  },
  {
   "cell_type": "code",
   "execution_count": 63,
   "metadata": {},
   "outputs": [],
   "source": [
    "from keras import utils"
   ]
  },
  {
   "cell_type": "code",
   "execution_count": 64,
   "metadata": {},
   "outputs": [],
   "source": [
    "y_train=utils.to_categorical(y_train)\n",
    "y_test=utils.to_categorical(y_test)"
   ]
  },
  {
   "cell_type": "code",
   "execution_count": 65,
   "metadata": {},
   "outputs": [],
   "source": [
    "model=Sequential()\n",
    "model.add(Dense(4,input_dim=4,activation='relu'))\n",
    "model.add(Dense(3,activation='softmax'))\n",
    "model.compile()"
   ]
  },
  {
   "cell_type": "code",
   "execution_count": 86,
   "metadata": {},
   "outputs": [],
   "source": [
    "import matplotlib.pyplot as plt\n",
    "from sklearn.datasets import fetch_lfw_people\n",
    "%matplotlib inline\n",
    "from keras.utils import to_categorical"
   ]
  },
  {
   "cell_type": "code",
   "execution_count": 61,
   "metadata": {},
   "outputs": [],
   "source": [
    "data=fetch_lfw_people(min_faces_per_person=70)"
   ]
  },
  {
   "cell_type": "code",
   "execution_count": 64,
   "metadata": {},
   "outputs": [],
   "source": [
    "y=to_categorical(data.target)\n",
    "X_train,X_test,y_train,y_test=train_test_split(data.data,y)"
   ]
  },
  {
   "cell_type": "code",
   "execution_count": 65,
   "metadata": {},
   "outputs": [],
   "source": [
    "X_train=X_train/255.\n",
    "X_test=X_test/255."
   ]
  },
  {
   "cell_type": "code",
   "execution_count": null,
   "metadata": {},
   "outputs": [],
   "source": []
  },
  {
   "cell_type": "code",
   "execution_count": null,
   "metadata": {},
   "outputs": [],
   "source": []
  },
  {
   "cell_type": "markdown",
   "metadata": {},
   "source": [
    "# Image Recognition"
   ]
  },
  {
   "cell_type": "code",
   "execution_count": 71,
   "metadata": {},
   "outputs": [
    {
     "name": "stderr",
     "output_type": "stream",
     "text": [
      "//anaconda/lib/python3.5/site-packages/matplotlib/font_manager.py:273: UserWarning: Matplotlib is building the font cache using fc-list. This may take a moment.\n",
      "  warnings.warn('Matplotlib is building the font cache using fc-list. This may take a moment.')\n",
      "//anaconda/lib/python3.5/site-packages/matplotlib/font_manager.py:273: UserWarning: Matplotlib is building the font cache using fc-list. This may take a moment.\n",
      "  warnings.warn('Matplotlib is building the font cache using fc-list. This may take a moment.')\n"
     ]
    }
   ],
   "source": [
    "from sklearn.datasets import fetch_lfw_people\n",
    "import matplotlib.pyplot as plt\n",
    "%matplotlib inline"
   ]
  },
  {
   "cell_type": "code",
   "execution_count": 69,
   "metadata": {},
   "outputs": [
    {
     "name": "stderr",
     "output_type": "stream",
     "text": [
      "Downloading LFW metadata: http://vis-www.cs.umass.edu/lfw/pairsDevTrain.txt\n",
      "Downloading LFW metadata: http://vis-www.cs.umass.edu/lfw/pairsDevTest.txt\n",
      "Downloading LFW metadata: http://vis-www.cs.umass.edu/lfw/pairs.txt\n",
      "Downloading LFW data (~200MB): http://vis-www.cs.umass.edu/lfw/lfw-funneled.tgz\n"
     ]
    }
   ],
   "source": [
    "data=fetch_lfw_people(min_faces_per_person=70)"
   ]
  },
  {
   "cell_type": "code",
   "execution_count": 72,
   "metadata": {},
   "outputs": [
    {
     "data": {
      "text/plain": [
       "<matplotlib.image.AxesImage at 0x119db8358>"
      ]
     },
     "execution_count": 72,
     "metadata": {},
     "output_type": "execute_result"
    },
    {
     "data": {
      "image/png": "[encoded data removed]",
      "text/plain": [
       "<matplotlib.figure.Figure at 0x119c8beb8>"
      ]
     },
     "metadata": {},
     "output_type": "display_data"
    }
   ],
   "source": [
    "plt.imshow(data.images[0])"
   ]
  },
  {
   "cell_type": "code",
   "execution_count": 74,
   "metadata": {},
   "outputs": [
    {
     "data": {
      "text/plain": [
       "array(['Ariel Sharon', 'Colin Powell', 'Donald Rumsfeld', 'George W Bush',\n",
       "       'Gerhard Schroeder', 'Hugo Chavez', 'Tony Blair'], \n",
       "      dtype='<U17')"
      ]
     },
     "execution_count": 74,
     "metadata": {},
     "output_type": "execute_result"
    }
   ],
   "source": [
    "data.target_names"
   ]
  },
  {
   "cell_type": "code",
   "execution_count": 88,
   "metadata": {},
   "outputs": [],
   "source": [
    "y = to_categorical(data.target)\n",
    "\n",
    "X_train, X_test, y_train, y_test = train_test_split(data.data, y)\n",
    "\n",
    "X_train = X_train.reshape(X_train.shape[0], 62, 47, 1)\n",
    "X_test = X_test.reshape(X_test.shape[0], 62, 47, 1)\n",
    "\n",
    "X_train = X_train / 255.\n",
    "X_test = X_test / 255."
   ]
  },
  {
   "cell_type": "code",
   "execution_count": 88,
   "metadata": {},
   "outputs": [
    {
     "name": "stdout",
     "output_type": "stream",
     "text": [
      "Train on 966 samples, validate on 322 samples\n",
      "Epoch 1/5\n",
      "966/966 [==============================] - 4s 5ms/step - loss: nan - acc: 0.0973 - val_loss: nan - val_acc: 0.0497\n",
      "Epoch 2/5\n",
      "966/966 [==============================] - 3s 3ms/step - loss: nan - acc: 0.0631 - val_loss: nan - val_acc: 0.0497\n",
      "Epoch 3/5\n",
      "966/966 [==============================] - 3s 3ms/step - loss: nan - acc: 0.0631 - val_loss: nan - val_acc: 0.0497\n",
      "Epoch 4/5\n",
      "966/966 [==============================] - 3s 3ms/step - loss: nan - acc: 0.0631 - val_loss: nan - val_acc: 0.0497\n",
      "Epoch 5/5\n",
      "966/966 [==============================] - 3s 3ms/step - loss: nan - acc: 0.0631 - val_loss: nan - val_acc: 0.0497\n"
     ]
    },
    {
     "data": {
      "text/plain": [
       "<keras.callbacks.History at 0x119ff4fd0>"
      ]
     },
     "execution_count": 88,
     "metadata": {},
     "output_type": "execute_result"
    }
   ],
   "source": [
    "model=Sequential()\n",
    "model.add(Dense(X_train.shape[1],input_dim=X_train.shape[1],activation='relu'))\n",
    "model.add(Dense(y.shape[1],activation='softmax'))\n",
    "model.add(Dropout(.5))\n",
    "model.compile(loss='categorical_crossentropy',metrics=['accuracy'],optimizer='adam')\n",
    "model.fit(X_train, y_train, validation_data=(X_test, y_test), epochs=5,batch_size=100)"
   ]
  },
  {
   "cell_type": "code",
   "execution_count": null,
   "metadata": {},
   "outputs": [],
   "source": [
    "keras.utils.to_categorical(/\n",
    "                           "
   ]
  },
  {
   "cell_type": "code",
   "execution_count": null,
   "metadata": {},
   "outputs": [],
   "source": []
  },
  {
   "cell_type": "code",
   "execution_count": 69,
   "metadata": {},
   "outputs": [
    {
     "ename": "NameError",
     "evalue": "name 'Conv2D' is not defined",
     "output_type": "error",
     "traceback": [
      "\u001b[0;31m---------------------------------------------------------------------------\u001b[0m",
      "\u001b[0;31mNameError\u001b[0m                                 Traceback (most recent call last)",
      "\u001b[0;32m<ipython-input-69-5f58c02741b8>\u001b[0m in \u001b[0;36m<module>\u001b[0;34m()\u001b[0m\n\u001b[1;32m      1\u001b[0m \u001b[0mmodel\u001b[0m \u001b[0;34m=\u001b[0m \u001b[0mSequential\u001b[0m\u001b[0;34m(\u001b[0m\u001b[0;34m)\u001b[0m\u001b[0;34m\u001b[0m\u001b[0m\n\u001b[0;32m----> 2\u001b[0;31m \u001b[0mmodel\u001b[0m\u001b[0;34m.\u001b[0m\u001b[0madd\u001b[0m\u001b[0;34m(\u001b[0m\u001b[0mConv2D\u001b[0m\u001b[0;34m(\u001b[0m\u001b[0;36m15\u001b[0m\u001b[0;34m,\u001b[0m \u001b[0;34m(\u001b[0m\u001b[0;36m5\u001b[0m\u001b[0;34m,\u001b[0m \u001b[0;36m5\u001b[0m\u001b[0;34m)\u001b[0m\u001b[0;34m,\u001b[0m \u001b[0minput_shape\u001b[0m\u001b[0;34m=\u001b[0m\u001b[0;34m(\u001b[0m\u001b[0;36m62\u001b[0m\u001b[0;34m,\u001b[0m \u001b[0;36m47\u001b[0m\u001b[0;34m,\u001b[0m \u001b[0;36m1\u001b[0m\u001b[0;34m)\u001b[0m\u001b[0;34m,\u001b[0m \u001b[0mactivation\u001b[0m\u001b[0;34m=\u001b[0m\u001b[0;34m'relu'\u001b[0m\u001b[0;34m)\u001b[0m\u001b[0;34m)\u001b[0m\u001b[0;34m\u001b[0m\u001b[0m\n\u001b[0m",
      "\u001b[0;31mNameError\u001b[0m: name 'Conv2D' is not defined"
     ]
    }
   ],
   "source": [
    "model = Sequential()\n",
    "model.add(Conv2D(15, (5, 5), input_shape=(62, 47, 1), activation='relu'))"
   ]
  },
  {
   "cell_type": "code",
   "execution_count": 66,
   "metadata": {},
   "outputs": [
    {
     "name": "stdout",
     "output_type": "stream",
     "text": [
      "Train on 966 samples, validate on 322 samples\n",
      "Epoch 1/5\n",
      "966/966 [==============================] - 6s 6ms/step - loss: nan - acc: 0.0704 - val_loss: nan - val_acc: 0.0559\n",
      "Epoch 2/5\n",
      "966/966 [==============================] - 3s 4ms/step - loss: nan - acc: 0.0611 - val_loss: nan - val_acc: 0.0559\n",
      "Epoch 3/5\n",
      "966/966 [==============================] - 3s 3ms/step - loss: nan - acc: 0.0611 - val_loss: nan - val_acc: 0.0559\n",
      "Epoch 4/5\n",
      "966/966 [==============================] - 3s 3ms/step - loss: nan - acc: 0.0611 - val_loss: nan - val_acc: 0.0559\n",
      "Epoch 5/5\n",
      "966/966 [==============================] - 3s 3ms/step - loss: nan - acc: 0.0611 - val_loss: nan - val_acc: 0.0559\n"
     ]
    },
    {
     "data": {
      "text/plain": [
       "<keras.callbacks.History at 0x12d28ecc0>"
      ]
     },
     "execution_count": 66,
     "metadata": {},
     "output_type": "execute_result"
    }
   ],
   "source": [
    "model=Sequential()\n",
    "model.add(Dense(X_train.shape[1],input_dim=X_train.shape[1],activation='relu'))\n",
    "model.add(Dense(y.shape[1],activation='softmax'))\n",
    "model.add(Dropout(.5))\n",
    "model.compile(loss='categorical_crossentropy',metrics=['accuracy'],optimizer='adam')\n",
    "model.fit(X_train, y_train, validation_data=(X_test, y_test), epochs=5,batch_size=100)"
   ]
  },
  {
   "cell_type": "code",
   "execution_count": 82,
   "metadata": {},
   "outputs": [],
   "source": [
    "model = Sequential()\n",
    "model.add(Conv2D(15, (5, 5), input_shape=(62, 47, 1), activation='relu'))\n",
    "model.add(MaxPool2D((2,2)))"
   ]
  },
  {
   "cell_type": "code",
   "execution_count": 89,
   "metadata": {},
   "outputs": [],
   "source": [
    "model = Sequential()\n",
    "model.add(Conv2D(15, (5, 5), input_shape=(62, 47, 1), activation='relu'))\n",
    "model.add(MaxPool2D((2,2)))\n",
    "model.add(Conv2D(30, (4,4), activation='relu'))\n",
    "model.add(MaxPool2D((2, 2)))\n",
    "\n",
    "model.compile(optimizer='adam',loss='categorical_crossentropy',metrics=['accuracy'])"
   ]
  },
  {
   "cell_type": "code",
   "execution_count": 93,
   "metadata": {},
   "outputs": [],
   "source": [
    "model = Sequential()\n",
    "model.add(Conv2D(15, (5, 5), input_shape=(62, 47, 1), activation='relu'))\n",
    "model.add(MaxPool2D((2,2)))\n",
    "model.add(Conv2D(30, (4,4), activation='relu'))\n",
    "model.add(MaxPool2D((2, 2)))\n",
    "model.add(Flatten())\n",
    "model.add(Dense(50, activation='relu'))\n",
    "model.add(Dense(y.shape[1], activation='softmax'))\n",
    "\n",
    "model.compile(optimizer='adam', loss='categorical_crossentropy', metrics=['accuracy'])"
   ]
  },
  {
   "cell_type": "code",
   "execution_count": 94,
   "metadata": {},
   "outputs": [
    {
     "name": "stdout",
     "output_type": "stream",
     "text": [
      "Train on 966 samples, validate on 322 samples\n",
      "Epoch 1/5\n",
      "966/966 [==============================] - 6s 7ms/step - loss: 1.7226 - acc: 0.4048 - val_loss: 1.7033 - val_acc: 0.3944\n",
      "Epoch 2/5\n",
      "966/966 [==============================] - 4s 4ms/step - loss: 1.6525 - acc: 0.4172 - val_loss: 1.6450 - val_acc: 0.3944\n",
      "Epoch 3/5\n",
      "966/966 [==============================] - 4s 4ms/step - loss: 1.5619 - acc: 0.4244 - val_loss: 1.5128 - val_acc: 0.4658\n",
      "Epoch 4/5\n",
      "966/966 [==============================] - 4s 4ms/step - loss: 1.3885 - acc: 0.4959 - val_loss: 1.3212 - val_acc: 0.5280\n",
      "Epoch 5/5\n",
      "966/966 [==============================] - 4s 4ms/step - loss: 1.2008 - acc: 0.5714 - val_loss: 1.1736 - val_acc: 0.6025\n"
     ]
    },
    {
     "data": {
      "text/plain": [
       "<keras.callbacks.History at 0x12f564f60>"
      ]
     },
     "execution_count": 94,
     "metadata": {},
     "output_type": "execute_result"
    }
   ],
   "source": [
    "model.fit(X_train, y_train, validation_data=(X_test, y_test), epochs=5)"
   ]
  },
  {
   "cell_type": "code",
   "execution_count": 95,
   "metadata": {},
   "outputs": [],
   "source": [
    "import pandas as pd"
   ]
  },
  {
   "cell_type": "code",
   "execution_count": 97,
   "metadata": {},
   "outputs": [],
   "source": [
    "df=pd.read_csv('train.csv')\n",
    "test=pd.read_csv('test.csv')"
   ]
  },
  {
   "cell_type": "code",
   "execution_count": 99,
   "metadata": {},
   "outputs": [],
   "source": [
    "y=to_categorical(df['label'].values)"
   ]
  },
  {
   "cell_type": "code",
   "execution_count": 103,
   "metadata": {},
   "outputs": [],
   "source": [
    "X_train, X_test, y_train, y_test = train_test_split(df[df.columns[1:]].values, y)\n",
    "X_test=X_test/255.\n",
    "X_train=X_train/255.\n",
    "X_train = X_train.reshape(X_train.shape[0], 28, 28, 1)\n",
    "X_test = X_test.reshape(X_test.shape[0], 28, 28, 1)"
   ]
  },
  {
   "cell_type": "code",
   "execution_count": 102,
   "metadata": {},
   "outputs": [
    {
     "data": {
      "text/plain": [
       "<matplotlib.image.AxesImage at 0x12b035128>"
      ]
     },
     "execution_count": 102,
     "metadata": {},
     "output_type": "execute_result"
    },
    {
     "data": {
      "image/png": "[encoded data removed]",
      "text/plain": [
       "<matplotlib.figure.Figure at 0x1395efd68>"
      ]
     },
     "metadata": {},
     "output_type": "display_data"
    }
   ],
   "source": [
    "plt.imshow(df.iloc[0,1:].values.reshape(28,28),cmap=plt.cm.gray)"
   ]
  },
  {
   "cell_type": "code",
   "execution_count": 125,
   "metadata": {},
   "outputs": [
    {
     "name": "stdout",
     "output_type": "stream",
     "text": [
      "Train on 31500 samples, validate on 10500 samples\n",
      "Epoch 1/10\n",
      "31500/31500 [==============================] - 38s 1ms/step - loss: 0.3409 - acc: 0.8940 - val_loss: 0.1319 - val_acc: 0.9597\n",
      "Epoch 2/10\n",
      "31500/31500 [==============================] - 33s 1ms/step - loss: 0.1015 - acc: 0.9689 - val_loss: 0.0936 - val_acc: 0.9735\n",
      "Epoch 3/10\n",
      "31500/31500 [==============================] - 32s 1ms/step - loss: 0.0727 - acc: 0.9773 - val_loss: 0.0704 - val_acc: 0.9789\n",
      "Epoch 4/10\n",
      "31500/31500 [==============================] - 31s 970us/step - loss: 0.0534 - acc: 0.9828 - val_loss: 0.0649 - val_acc: 0.9812\n",
      "Epoch 5/10\n",
      "31500/31500 [==============================] - 27s 858us/step - loss: 0.0434 - acc: 0.9868 - val_loss: 0.0653 - val_acc: 0.9807\n",
      "Epoch 6/10\n",
      "31500/31500 [==============================] - 30s 948us/step - loss: 0.0347 - acc: 0.9891 - val_loss: 0.0531 - val_acc: 0.9838\n",
      "Epoch 7/10\n",
      "31500/31500 [==============================] - 28s 898us/step - loss: 0.0310 - acc: 0.9902 - val_loss: 0.0557 - val_acc: 0.9834\n",
      "Epoch 8/10\n",
      "31500/31500 [==============================] - 26s 837us/step - loss: 0.0277 - acc: 0.9908 - val_loss: 0.0702 - val_acc: 0.9793\n",
      "Epoch 9/10\n",
      "31500/31500 [==============================] - 27s 847us/step - loss: 0.0239 - acc: 0.9921 - val_loss: 0.0598 - val_acc: 0.9829\n",
      "Epoch 10/10\n",
      "31500/31500 [==============================] - 260s 8ms/step - loss: 0.0181 - acc: 0.9942 - val_loss: 0.0507 - val_acc: 0.9869\n"
     ]
    },
    {
     "data": {
      "text/plain": [
       "<keras.callbacks.History at 0x13376bcc0>"
      ]
     },
     "execution_count": 125,
     "metadata": {},
     "output_type": "execute_result"
    }
   ],
   "source": [
    "model = Sequential()\n",
    "model.add(Conv2D(15, kernel_size=(5,5), input_shape=(28, 28, 1), activation='relu'))\n",
    "model.add(MaxPool2D((2,2)))\n",
    "model.add(Conv2D(30, kernel_size=(4,4), activation='relu'))\n",
    "model.add(MaxPool2D((2,2)))\n",
    "model.add(Conv2D(45, kernel_size=(3,3), activation='relu'))\n",
    "model.add(MaxPool2D((2,2)))\n",
    "model.add(Flatten())\n",
    "model.add(Dense(50, activation='relu'))\n",
    "model.add(Dense(10, activation='softmax'))\n",
    "\n",
    "model.compile(optimizer='adam', loss='categorical_crossentropy', metrics=['accuracy'])\n",
    "\n",
    "model.fit(X_train, y_train, validation_data=(X_test, y_test), epochs=10)"
   ]
  },
  {
   "cell_type": "code",
   "execution_count": 122,
   "metadata": {},
   "outputs": [
    {
     "name": "stdout",
     "output_type": "stream",
     "text": [
      "28000/28000 [==============================] - 13s 458us/step\n"
     ]
    }
   ],
   "source": [
    "test_df = pd.read_csv('test.csv')\n",
    "test = test_df.values.reshape(test_df.shape[0], 28, 28, 1)\n",
    "test = test / 255.\n",
    "pred = model.predict_classes(test)"
   ]
  },
  {
   "cell_type": "code",
   "execution_count": null,
   "metadata": {},
   "outputs": [],
   "source": []
  },
  {
   "cell_type": "code",
   "execution_count": 123,
   "metadata": {},
   "outputs": [],
   "source": [
    "\n",
    "test_df['Label'] = pred\n",
    "test_df['ImageId'] = range(1,test_df.shape[0] + 1)\n",
    "test_df[['ImageId', 'Label']].to_csv('submission2.csv', index=False)"
   ]
  },
  {
   "cell_type": "code",
   "execution_count": null,
   "metadata": {},
   "outputs": [],
   "source": []
  },
  {
   "cell_type": "code",
   "execution_count": null,
   "metadata": {},
   "outputs": [],
   "source": []
  },
  {
   "cell_type": "code",
   "execution_count": null,
   "metadata": {},
   "outputs": [],
   "source": []
  },
  {
   "cell_type": "code",
   "execution_count": null,
   "metadata": {},
   "outputs": [],
   "source": []
  },
  {
   "cell_type": "code",
   "execution_count": null,
   "metadata": {},
   "outputs": [],
   "source": []
  },
  {
   "cell_type": "code",
   "execution_count": null,
   "metadata": {},
   "outputs": [],
   "source": []
  }
 ],
 "metadata": {
  "anaconda-cloud": {},
  "kernelspec": {
   "display_name": "Python [Root]",
   "language": "python",
   "name": "Python [Root]"
  },
  "language_info": {
   "codemirror_mode": {
    "name": "ipython",
    "version": 3
   },
   "file_extension": ".py",
   "mimetype": "text/x-python",
   "name": "python",
   "nbconvert_exporter": "python",
   "pygments_lexer": "ipython3",
   "version": "3.5.4"
  }
 },
 "nbformat": 4,
 "nbformat_minor": 2
}
